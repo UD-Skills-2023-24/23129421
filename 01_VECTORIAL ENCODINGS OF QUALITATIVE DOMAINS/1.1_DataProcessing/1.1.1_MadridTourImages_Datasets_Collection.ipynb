{
 "cells": [
  {
   "cell_type": "code",
   "execution_count": 1,
   "id": "fe8cbd09",
   "metadata": {},
   "outputs": [
    {
     "data": {
      "text/plain": [
       "'D:\\\\FinalAssignment\\\\MADRID Spain - 4K City Walking Tour - Episode 1 - Exploring European Cities.mp4'"
      ]
     },
     "execution_count": 1,
     "metadata": {},
     "output_type": "execute_result"
    }
   ],
   "source": [
    "from pytube import YouTube\n",
    "\n",
    "url = \"https://www.youtube.com/watch?v=TXH5eGF2COk\"\n",
    "\n",
    "yt = YouTube(url)\n",
    "\n",
    "stream = yt.streams.get_by_resolution('720p')\n",
    "\n",
    "save_path = \"D:\\\\FinalAssignment\"\n",
    "\n",
    "stream.download(output_path=save_path)"
   ]
  },
  {
   "cell_type": "code",
   "execution_count": 3,
   "id": "b52a1964",
   "metadata": {},
   "outputs": [
    {
     "name": "stdout",
     "output_type": "stream",
     "text": [
      "Number of keyframes extracted: 1026\n"
     ]
    }
   ],
   "source": [
    "import cv2\n",
    "import numpy as np\n",
    "\n",
    "video_path = \"D:\\\\FinalAssignment\\\\MADRID.mp4\"\n",
    "cap = cv2.VideoCapture(video_path)\n",
    "\n",
    "interval = int(6 * cap.get(cv2.CAP_PROP_FPS))\n",
    "\n",
    "keyframes = []\n",
    "while cap.isOpened():\n",
    "    ret, frame = cap.read()\n",
    "    if not ret:\n",
    "        break\n",
    "    \n",
    "    if cap.get(cv2.CAP_PROP_POS_FRAMES) % interval == 0:\n",
    "        keyframes.append(frame)\n",
    "\n",
    "output_folder = \"D:\\\\FinalAssignment\\\\Images\"\n",
    "for i, keyframe in enumerate(keyframes):\n",
    "    cv2.imwrite(f\"{output_folder}/keyframe_{i}.jpg\", keyframe)\n",
    "\n",
    "cap.release()\n",
    "\n",
    "print(f\"Number of keyframes extracted: {len(keyframes)}\")"
   ]
  },
  {
   "cell_type": "code",
   "execution_count": null,
   "id": "5b9d639c",
   "metadata": {},
   "outputs": [],
   "source": []
  }
 ],
 "metadata": {
  "kernelspec": {
   "display_name": "Python 3 (ipykernel)",
   "language": "python",
   "name": "python3"
  },
  "language_info": {
   "codemirror_mode": {
    "name": "ipython",
    "version": 3
   },
   "file_extension": ".py",
   "mimetype": "text/x-python",
   "name": "python",
   "nbconvert_exporter": "python",
   "pygments_lexer": "ipython3",
   "version": "3.8.18"
  }
 },
 "nbformat": 4,
 "nbformat_minor": 5
}
