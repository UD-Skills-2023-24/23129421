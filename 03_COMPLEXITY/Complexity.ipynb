{
 "cells": [
  {
   "cell_type": "markdown",
   "metadata": {
    "id": "canglez7h6V_"
   },
   "source": [
    "# Excercise 01"
   ]
  },
  {
   "cell_type": "code",
   "execution_count": 1,
   "metadata": {
    "executionInfo": {
     "elapsed": 4,
     "status": "ok",
     "timestamp": 1715076720048,
     "user": {
      "displayName": "Jiaqi Xu",
      "userId": "12037199479398378248"
     },
     "user_tz": -60
    },
    "id": "fRt0AX5SgYLZ"
   },
   "outputs": [],
   "source": [
    "import numpy as np\n",
    "\n",
    "def square_matrix_multiply(A, B):\n",
    "    n = A.shape[0] \n",
    "    C = np.zeros((n, n))\n",
    "    for i in range(n):\n",
    "        for j in range(n):\n",
    "            for k in range(n):\n",
    "                C[i, j] += A[i, k] * B[k, j]\n",
    "    return C"
   ]
  },
  {
   "cell_type": "code",
   "execution_count": 2,
   "metadata": {},
   "outputs": [],
   "source": [
    "A = np.array([[3, 4, 2], [4, 6, 7],[1, 2, 4]])\n",
    "B = np.array([[6, 4, 2], [8, 2, 3],[1, 3, 4]])"
   ]
  },
  {
   "cell_type": "code",
   "execution_count": 3,
   "metadata": {},
   "outputs": [],
   "source": [
    "result = square_matrix_multiply(A, B)"
   ]
  },
  {
   "cell_type": "code",
   "execution_count": 4,
   "metadata": {},
   "outputs": [
    {
     "name": "stdout",
     "output_type": "stream",
     "text": [
      "[[52. 26. 26.]\n",
      " [79. 49. 54.]\n",
      " [26. 20. 24.]]\n"
     ]
    }
   ],
   "source": [
    "print(result)"
   ]
  },
  {
   "cell_type": "markdown",
   "metadata": {
    "id": "5q5nM2fOh7WF"
   },
   "source": [
    "**Analysis of Time Complexity**\n",
    "\n",
    "The time complexity analysis for this algorithm stays consistent with the previous explanation. The algorithm employs three nested loops, iterating through each element of the resulting matrix C. In each iteration, it calculates the dot product of a row in matrix A with a column in matrix B.\n",
    "\n",
    "In detail:\n",
    "\n",
    "The outer loop (indexed by i) runs n times, where n represents the size of the matrices.\n",
    "\n",
    "The middle loop (indexed by j) iterates n times for each iteration of the outer loop.\n",
    "\n",
    "The inner loop (indexed by k) runs n times for each iteration of the middle loop.\n",
    "\n",
    "This arrangement results in a total of n * n * n = n^3 scalar multiplications being executed.\n",
    "\n",
    "Consequently, the time complexity of this algorithm is denoted as O(n^3).\n",
    "\n",
    "The rationale behind this assessment remains consistent with the earlier explanation. The algorithm's structure comprises three nested loops, each iterating n times, thereby leading to a cubic time complexity. Each loop iteration entails n scalar multiplications, cumulatively amounting to n^3 scalar multiplications. Consequently, the time complexity indeed stands at O(n^3)."
   ]
  },
  {
   "cell_type": "markdown",
   "metadata": {},
   "source": [
    "### Implement"
   ]
  },
  {
   "cell_type": "code",
   "execution_count": 6,
   "metadata": {},
   "outputs": [],
   "source": [
    "import time"
   ]
  },
  {
   "cell_type": "code",
   "execution_count": 7,
   "metadata": {},
   "outputs": [],
   "source": [
    "nestedlist1 = np.random.rand(10, 10).tolist()"
   ]
  },
  {
   "cell_type": "code",
   "execution_count": 8,
   "metadata": {},
   "outputs": [],
   "source": [
    "nestedlist2 = np.random.rand(10, 10).tolist()"
   ]
  },
  {
   "cell_type": "code",
   "execution_count": 9,
   "metadata": {},
   "outputs": [],
   "source": [
    "nestedlist3 = np.random.rand(100, 100).tolist()"
   ]
  },
  {
   "cell_type": "code",
   "execution_count": 10,
   "metadata": {},
   "outputs": [],
   "source": [
    "nestedlist4 = np.random.rand(100, 100).tolist()"
   ]
  },
  {
   "cell_type": "code",
   "execution_count": 11,
   "metadata": {},
   "outputs": [],
   "source": [
    "def square_matrix_multiply(A, B):\n",
    "    n = len(A)\n",
    "    C = [[0 for i in range(n)] for i in range(n)]\n",
    "    for i in range(n):\n",
    "        for j in range(n):\n",
    "            for k in range(n):\n",
    "                C[i][j] += A[i][k] * B[k][j]\n",
    "    return C"
   ]
  },
  {
   "cell_type": "code",
   "execution_count": 12,
   "metadata": {},
   "outputs": [
    {
     "name": "stdout",
     "output_type": "stream",
     "text": [
      "Execution time: 0.000946044921875 seconds\n"
     ]
    }
   ],
   "source": [
    "start_time = time.time()\n",
    "square_matrix_multiply(nestedlist1, nestedlist2)\n",
    "end_time = time.time()\n",
    "execution_time = end_time - start_time\n",
    "print(\"Execution time:\", execution_time, \"seconds\")"
   ]
  },
  {
   "cell_type": "code",
   "execution_count": 13,
   "metadata": {},
   "outputs": [
    {
     "name": "stdout",
     "output_type": "stream",
     "text": [
      "Execution time: 0.35797929763793945 seconds\n"
     ]
    }
   ],
   "source": [
    "start_time = time.time()\n",
    "square_matrix_multiply(nestedlist3, nestedlist4)\n",
    "end_time = time.time()\n",
    "execution_time = end_time - start_time\n",
    "print(\"Execution time:\", execution_time, \"seconds\")"
   ]
  },
  {
   "cell_type": "markdown",
   "metadata": {},
   "source": [
    "### Comparing execution times (in seconds) for custom vs. built-in multiplication:"
   ]
  },
  {
   "cell_type": "code",
   "execution_count": 14,
   "metadata": {},
   "outputs": [
    {
     "name": "stdout",
     "output_type": "stream",
     "text": [
      "Comparing execution times (in seconds) for custom vs. built-in multiplication:\n",
      "Matrix Size Custom Time     Built-in Time  \n",
      "10         0.001002        0.018447       \n",
      "50         0.043015        0.000000       \n",
      "100        0.238083        0.002000       \n",
      "200        2.158756        0.002033       \n",
      "500        32.722635       0.007995       \n"
     ]
    }
   ],
   "source": [
    "def square_matrix_multiply(A, B):\n",
    "    n = len(A)\n",
    "    C = [[0 for i in range(n)] for i in range(n)]\n",
    "    for i in range(n):\n",
    "        for j in range(n):\n",
    "            for k in range(n):\n",
    "                C[i][j] += A[i][k] * B[k][j]\n",
    "    return C\n",
    "\n",
    "def generate_random_matrix(n):\n",
    "    return [[np.random.rand() for _ in range(n)] for _ in range(n)]\n",
    "\n",
    "def measure_custom_time(matrix_size):\n",
    "    A = generate_random_matrix(matrix_size)\n",
    "    B = generate_random_matrix(matrix_size)\n",
    "    \n",
    "    start_time = time.time()\n",
    "    square_matrix_multiply(A, B)\n",
    "    end_time = time.time()\n",
    "    \n",
    "    return end_time - start_time\n",
    "\n",
    "def measure_builtin_time(matrix_size):\n",
    "    A = np.random.rand(matrix_size, matrix_size)\n",
    "    B = np.random.rand(matrix_size, matrix_size)\n",
    "    \n",
    "    start_time = time.time()\n",
    "    np.dot(A, B)\n",
    "    end_time = time.time()\n",
    "    \n",
    "    return end_time - start_time\n",
    "\n",
    "matrix_sizes = [10, 50, 100, 200, 500]\n",
    "\n",
    "print(\"Comparing execution times (in seconds) for custom vs. built-in multiplication:\")\n",
    "print(\"{:<10} {:<15} {:<15}\".format(\"Matrix Size\", \"Custom Time\", \"Built-in Time\"))\n",
    "for size in matrix_sizes:\n",
    "    custom_time = measure_custom_time(size)\n",
    "    builtin_time = measure_builtin_time(size)\n",
    "    print(\"{:<10} {:<15.6f} {:<15.6f}\".format(size, custom_time, builtin_time))"
   ]
  },
  {
   "cell_type": "markdown",
   "metadata": {},
   "source": [
    "### Multiply more than two matrices / perform other operations on matrices"
   ]
  },
  {
   "cell_type": "code",
   "execution_count": 16,
   "metadata": {},
   "outputs": [
    {
     "name": "stdout",
     "output_type": "stream",
     "text": [
      "\n",
      "Comparing execution times (in seconds) for custom vs. built-in multiplication of 3 matrices:\n",
      "Matrix Size Custom Time     Built-in Time  \n",
      "10         0.001084        0.001062       \n",
      "50         0.077531        0.000000       \n",
      "100        0.577909        0.002001       \n",
      "200        4.467828        0.003000       \n",
      "500        67.795220       0.012995       \n"
     ]
    }
   ],
   "source": [
    "def multiply_multiple_matrices(matrices):\n",
    "    result = matrices[0]\n",
    "    for i in range(1, len(matrices)):\n",
    "        result = np.dot(result, matrices[i])\n",
    "    return result\n",
    "\n",
    "def measure_multiple_matrices_time(matrix_size, num_matrices):\n",
    "    matrices = [np.random.rand(matrix_size, matrix_size) for _ in range(num_matrices)]\n",
    "    \n",
    "    start_time = time.time()\n",
    "    multiply_multiple_matrices(matrices)\n",
    "    end_time = time.time()\n",
    "    \n",
    "    return end_time - start_time\n",
    "\n",
    "def measure_custom_multiple_matrices_time(matrix_size, num_matrices):\n",
    "    matrices = [generate_random_matrix(matrix_size) for _ in range(num_matrices)]\n",
    "    \n",
    "    start_time = time.time()\n",
    "    result = matrices[0]\n",
    "    for i in range(1, len(matrices)):\n",
    "        result = square_matrix_multiply(result, matrices[i])\n",
    "    end_time = time.time()\n",
    "    \n",
    "    return end_time - start_time\n",
    "\n",
    "num_matrices = 3\n",
    "\n",
    "print(\"\\nComparing execution times (in seconds) for custom vs. built-in multiplication of {} matrices:\".format(num_matrices))\n",
    "print(\"{:<10} {:<15} {:<15}\".format(\"Matrix Size\", \"Custom Time\", \"Built-in Time\"))\n",
    "for size in matrix_sizes:\n",
    "    custom_time = measure_custom_multiple_matrices_time(size, num_matrices)\n",
    "    builtin_time = measure_multiple_matrices_time(size, num_matrices)\n",
    "    print(\"{:<10} {:<15.6f} {:<15.6f}\".format(size, custom_time, builtin_time))"
   ]
  },
  {
   "cell_type": "markdown",
   "metadata": {
    "id": "l2TEgDy-iXdp"
   },
   "source": [
    "# Exercise 02"
   ]
  },
  {
   "cell_type": "code",
   "execution_count": 21,
   "metadata": {
    "id": "IRns5TaoiWdw"
   },
   "outputs": [],
   "source": [
    "def split_matrix(A, n):\n",
    "    A11 = [row[:n] for row in A[:n]]\n",
    "    A12 = [row[n:] for row in A[:n]]\n",
    "    A21 = [row[:n] for row in A[n:]]\n",
    "    A22 = [row[n:] for row in A[n:]]\n",
    "    return A11, A12, A21, A22\n",
    "\n",
    "\n",
    "def matrix_add(A, B):\n",
    "    n = len(A)\n",
    "    return [[A[i][j] + B[i][j] for j in range(n)] for i in range(n)]\n",
    "\n",
    "\n",
    "def combine_matrix(A, B, C, D, n):\n",
    "    top = [A[i] + B[i] for i in range(n)]\n",
    "    bottom = [C[i] + D[i] for i in range(n)]\n",
    "    return top + bottom\n",
    "\n",
    "\n",
    "def square_matrix_multiply_recursive(A, B):\n",
    "    n = len(A)\n",
    "    if n == 1:\n",
    "        return [[A[0][0] * B[0][0]]]\n",
    "    else:\n",
    "        mid = n // 2\n",
    "        A11, A12, A21, A22 = split_matrix(A, mid)\n",
    "        B11, B12, B21, B22 = split_matrix(B, mid)\n",
    "\n",
    "        # recursive\n",
    "        C11 = matrix_add(square_matrix_multiply_recursive(A11, B11),\n",
    "                         square_matrix_multiply_recursive(A12, B21))\n",
    "        C12 = matrix_add(square_matrix_multiply_recursive(A11, B12),\n",
    "                         square_matrix_multiply_recursive(A12, B22))\n",
    "        C21 = matrix_add(square_matrix_multiply_recursive(A21, B11),\n",
    "                         square_matrix_multiply_recursive(A22, B21))\n",
    "        C22 = matrix_add(square_matrix_multiply_recursive(A21, B12),\n",
    "                         square_matrix_multiply_recursive(A22, B22))\n",
    "\n",
    "        # combining quarters\n",
    "        C = combine_matrix(C11, C12, C21, C22, mid)\n",
    "        return C"
   ]
  },
  {
   "cell_type": "markdown",
   "metadata": {
    "id": "qSWWT_r1jJso"
   },
   "source": [
    "***Algorithm Description***\n",
    "\n",
    "> 01. **Recursiveness:**\n",
    "- **Recursive Nature:**  \n",
    "  The algorithm repetitively splits the matrices into smaller segments until they reach a minimal size, typically 1x1, where a direct multiplication operation can be executed.\n",
    "\n",
    "02. **Divide-and-Conquer:**\n",
    "- **Divide:**  \n",
    "  Initially, the algorithm divides the input matrices into four equal-sized quarters, setting the stage for further processing.\n",
    "- **Conquer:**  \n",
    "  It subsequently tackles each submatrix pair recursively, multiplying them until they reach the base case.\n",
    "- **Combine:**  \n",
    "  After recursive multiplication, the algorithm combines the results from individual submatrices to generate the final product.\n",
    "\n",
    "\n",
    "\n",
    "\n",
    "\n",
    "   \n",
    "***Implementation***\n",
    "\n",
    "\n",
    "> The translation of the pseudocode into Python functions primarily involves direct mapping, albeit with some complexity in handling matrix splits and combines, necessitating careful index management.\n",
    "\n",
    "\n",
    "\n",
    "\n",
    "***Complexity Analysis***\n",
    "\n",
    "\n",
    "\n",
    "> - **Base Case:**\n",
    "Multiplying 1x1 matrices involves one operation, hence O(1) time complexity.\n",
    "- **Divide Step:**  \n",
    "  Dividing matrices into quarters necessitates copying elements, taking O(n^2) time.\n",
    "- **Conquer Step:**  \n",
    "  The recursive multiplication of submatrices involves eight recursive calls, each dealing with matrices of size n/2, leading to a per-call time complexity of T(n/2).\n",
    "- **Combine Step:**  \n",
    "  Combining submatrices involves element-wise addition, taking O(n^2) time.\n",
    "- **Overall:**  \n",
    "  The overall time complexity is deduced as O(n^3) from the recurrence relation T(n) = 8T(n/2) + O(n^2), reflecting the need for additions and multiplications at each recursion level within the divide-and-conquer framework. Despite its recursive nature, the divide-and-conquer approach helps manage the problem by breaking it into smaller, more manageable subproblems.\n"
   ]
  },
  {
   "cell_type": "code",
   "execution_count": 22,
   "metadata": {},
   "outputs": [],
   "source": [
    "A = np.random.rand(128,128)\n",
    "B = np.random.rand(128,128)"
   ]
  },
  {
   "cell_type": "code",
   "execution_count": 23,
   "metadata": {},
   "outputs": [
    {
     "name": "stdout",
     "output_type": "stream",
     "text": [
      "Execution time: 7.632548093795776 seconds\n"
     ]
    }
   ],
   "source": [
    "start_time = time.time()\n",
    "square_matrix_multiply_recursive(A,B)\n",
    "end_time = time.time()\n",
    "execution_time = end_time - start_time\n",
    "print(\"Execution time:\", execution_time, \"seconds\")"
   ]
  },
  {
   "cell_type": "code",
   "execution_count": 24,
   "metadata": {},
   "outputs": [
    {
     "name": "stdout",
     "output_type": "stream",
     "text": [
      "Execution time: 1.4195423126220703 seconds\n"
     ]
    }
   ],
   "source": [
    "start_time = time.time()\n",
    "square_matrix_multiply(A,B)\n",
    "end_time = time.time()\n",
    "execution_time = end_time - start_time\n",
    "print(\"Execution time:\", execution_time, \"seconds\")"
   ]
  },
  {
   "cell_type": "markdown",
   "metadata": {
    "id": "Giij4-xfoJo7"
   },
   "source": [
    "# Excercise 03"
   ]
  },
  {
   "cell_type": "code",
   "execution_count": 25,
   "metadata": {
    "id": "KcT4PPHjknXV"
   },
   "outputs": [],
   "source": [
    "def matrix_sub(A, B):\n",
    "    n = len(A)\n",
    "    return [[A[i][j] - B[i][j] for j in range(n)] for i in range(n)]\n",
    "\n",
    "\n",
    "def strassen_matrix_multiply(A, B):\n",
    "    n = len(A)\n",
    "    if n == 1:\n",
    "        return [[A[0][0] * B[0][0]]]\n",
    "    else:\n",
    "        # Splitting and recombining matrices\n",
    "        mid = n // 2\n",
    "        A11, A12, A21, A22 = split_matrix(A, mid)\n",
    "        B11, B12, B21, B22 = split_matrix(B, mid)\n",
    "\n",
    "        # Strassen's multiplication operations\n",
    "        M1 = strassen_matrix_multiply(matrix_add(A11, A22), matrix_add(B11, B22))\n",
    "        M2 = strassen_matrix_multiply(matrix_add(A21, A22), B11)\n",
    "        M3 = strassen_matrix_multiply(A11, matrix_sub(B12, B22))\n",
    "        M4 = strassen_matrix_multiply(A22, matrix_sub(B21, B11))\n",
    "        M5 = strassen_matrix_multiply(matrix_add(A11, A12), B22)\n",
    "        M6 = strassen_matrix_multiply(matrix_sub(A21, A11), matrix_add(B11, B12))\n",
    "        M7 = strassen_matrix_multiply(matrix_sub(A12, A22), matrix_add(B21, B22))\n",
    "\n",
    "        # Combining results\n",
    "        C11 = matrix_add(M1, M4)\n",
    "        C11 = matrix_sub(C11, M5)\n",
    "        C11 = matrix_add(C11, M7)\n",
    "        C12 = matrix_add(M3, M5)\n",
    "        C21 = matrix_add(M2, M4)\n",
    "        C22 = matrix_add(M1, M3)\n",
    "        C22 = matrix_sub(C22, M2)\n",
    "        C22 = matrix_sub(C22, M6)\n",
    "\n",
    "        C = combine_matrix(C11, C12, C21, C22, mid)\n",
    "        return C"
   ]
  },
  {
   "cell_type": "markdown",
   "metadata": {
    "id": "6RzbuTPyoYSb"
   },
   "source": [
    "***Reflection on Matrix Operations Complexity***\n",
    "\n",
    "\n",
    "> Matrix multiplication typically involves more complex operations than addition and subtraction. Multiplying two matrices involves the scalar product of rows and columns, resulting in more computational steps compared to addition or subtraction, which only requires adding or subtracting corresponding elements.\n",
    "\n",
    "\n",
    "\n",
    "***Complexity Analysis of Strassen Algorithm***\n",
    "\n",
    "**Base Case:**The base case remains the same as the recursive algorithm in Exercise 2, involving a single multiplication operation, hence O(1).\n",
    "**Divide Step:**Splitting matrices into quarters takes O(n^2) time, similar to the recursive algorithm.\n",
    "**Conquer Step:**Strassen's algorithm performs seven recursive multiplications of matrices of size n/2 × n/2. Each of these recursive calls deals with matrices of half the size of the original matrices, leading to a time complexity of T(n/2) per call.\n",
    "**Combine Step:**After the recursive multiplications, there are additional steps (S1 to S10) involving additions and subtractions, totaling 10 extra operations.\n",
    "The final step combines the submatrices into the resulting matrix C, which also involves additions and subtractions.\n",
    "**Overall Complexity:**The recurrence relation for Strassen's algorithm is T(n) = 7T(n/2) + O(n^2), as there are seven recursive calls each dealing with matrices of size n/2 × n/2; Using the Master Theorem or other methods, the overall time complexity is deduced as O(n^log2(7)) ≈ O(n^2.81); Compared to the naive recursive algorithm, Strassen's algorithm reduces the number of recursive multiplications but introduces additional overhead due to extra addition and subtraction operations.\n",
    "\n",
    "*[Adaptation and Explanation of Changes]*\n",
    "\n",
    "The implemented code adapts the Strassen algorithm by incorporating the splitting, combining, and recursive multiplication operations. Instead of eight recursive multiplications as in Exercise 2, Strassen's algorithm performs seven recursive multiplications. Additionally, it includes extra steps (S1 to S10) for additions and subtractions before the recursive multiplications and after to calculate the final quarters of matrix C. These changes affect the overall time complexity, reducing the number of recursive multiplications while introducing extra overhead for additional operations.\n",
    "\n",
    "Overall, Strassen's algorithm optimizes matrix multiplication by reducing the number of recursive multiplications, which leads to improved performance for large matrices. However, the algorithm's effectiveness depends on various factors, such as the size of the matrices and the efficiency of the implementation."
   ]
  },
  {
   "cell_type": "code",
   "execution_count": null,
   "metadata": {
    "id": "5GMRRYarpE_m"
   },
   "outputs": [],
   "source": []
  }
 ],
 "metadata": {
  "colab": {
   "authorship_tag": "ABX9TyNRkIqRiJ9GyjT8ZpLX05qU",
   "collapsed_sections": [
    "canglez7h6V_",
    "l2TEgDy-iXdp",
    "Giij4-xfoJo7"
   ],
   "provenance": []
  },
  "kernelspec": {
   "display_name": "Python 3 (ipykernel)",
   "language": "python",
   "name": "python3"
  },
  "language_info": {
   "codemirror_mode": {
    "name": "ipython",
    "version": 3
   },
   "file_extension": ".py",
   "mimetype": "text/x-python",
   "name": "python",
   "nbconvert_exporter": "python",
   "pygments_lexer": "ipython3",
   "version": "3.8.18"
  }
 },
 "nbformat": 4,
 "nbformat_minor": 1
}
